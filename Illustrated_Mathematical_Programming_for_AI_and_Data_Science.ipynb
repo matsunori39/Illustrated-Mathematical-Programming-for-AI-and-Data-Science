{
  "nbformat": 4,
  "nbformat_minor": 0,
  "metadata": {
    "colab": {
      "name": "Illustrated Mathematical Programming for AI and Data Science.ipynb",
      "provenance": [],
      "mount_file_id": "1_DkyIVQe4j1pavQ-m7M_VMgMBvhK_kNX",
      "authorship_tag": "ABX9TyOReXNgZfqDLnK6DYypIY38",
      "include_colab_link": true
    },
    "kernelspec": {
      "name": "python3",
      "display_name": "Python 3"
    },
    "language_info": {
      "name": "python"
    }
  },
  "cells": [
    {
      "cell_type": "markdown",
      "metadata": {
        "id": "view-in-github",
        "colab_type": "text"
      },
      "source": [
        "<a href=\"https://colab.research.google.com/github/matsunori39/Illustrated-Mathematical-Programming-for-AI-and-Data-Science/blob/main/Illustrated_Mathematical_Programming_for_AI_and_Data_Science.ipynb\" target=\"_parent\"><img src=\"https://colab.research.google.com/assets/colab-badge.svg\" alt=\"Open In Colab\"/></a>"
      ]
    },
    {
      "cell_type": "code",
      "source": [
        "from google.colab import drive\n",
        "drive.mount('/content/drive')"
      ],
      "metadata": {
        "colab": {
          "base_uri": "https://localhost:8080/"
        },
        "id": "lFqLc9AgZ_Ns",
        "outputId": "e2f04f4e-971b-4a5c-d541-afa9034f8e2e"
      },
      "execution_count": null,
      "outputs": [
        {
          "output_type": "stream",
          "name": "stdout",
          "text": [
            "Drive already mounted at /content/drive; to attempt to forcibly remount, call drive.mount(\"/content/drive\", force_remount=True).\n"
          ]
        }
      ]
    },
    {
      "cell_type": "code",
      "execution_count": null,
      "metadata": {
        "colab": {
          "base_uri": "https://localhost:8080/"
        },
        "id": "f2Mxxy8MTbyn",
        "outputId": "c20809aa-1a4e-4de5-acaf-1d3335f00c35"
      },
      "outputs": [
        {
          "output_type": "stream",
          "name": "stdout",
          "text": [
            "--2022-03-21 07:40:02--  http://www.sotechsha.co.jp/sp/1281/ZIP/for_Google_Colaboratory.zip\n",
            "Resolving www.sotechsha.co.jp (www.sotechsha.co.jp)... 211.15.241.18\n",
            "Connecting to www.sotechsha.co.jp (www.sotechsha.co.jp)|211.15.241.18|:80... connected.\n",
            "HTTP request sent, awaiting response... 200 OK\n",
            "Length: 42921175 (41M) [application/zip]\n",
            "Saving to: ‘for_Google_Colaboratory.zip’\n",
            "\n",
            "for_Google_Colabora 100%[===================>]  40.93M  8.74MB/s    in 7.5s    \n",
            "\n",
            "2022-03-21 07:40:11 (5.45 MB/s) - ‘for_Google_Colaboratory.zip’ saved [42921175/42921175]\n",
            "\n"
          ]
        }
      ],
      "source": [
        "!wget http://www.sotechsha.co.jp/sp/1281/ZIP/for_Google_Colaboratory.zip"
      ]
    },
    {
      "cell_type": "code",
      "source": [
        "cd /content/drive/MyDrive/Colab Notebooks/workspace/HandsOn/Illustrated Mathematical Programming for AI and Data Science"
      ],
      "metadata": {
        "colab": {
          "base_uri": "https://localhost:8080/"
        },
        "id": "6lCYTaLraMDT",
        "outputId": "e7e09d5c-ba33-48c5-946c-e34df6d3e175"
      },
      "execution_count": null,
      "outputs": [
        {
          "output_type": "stream",
          "name": "stdout",
          "text": [
            "/content/drive/MyDrive/Colab Notebooks/workspace/HandsOn/Illustrated Mathematical Programming for AI and Data Science\n"
          ]
        }
      ]
    },
    {
      "cell_type": "code",
      "source": [
        "!pip install python-dotenv"
      ],
      "metadata": {
        "colab": {
          "base_uri": "https://localhost:8080/"
        },
        "id": "6PIYDOsVZQNd",
        "outputId": "000f5055-7f6e-46bb-eaf6-85c70b2dfc95"
      },
      "execution_count": null,
      "outputs": [
        {
          "output_type": "stream",
          "name": "stdout",
          "text": [
            "Collecting python-dotenv\n",
            "  Downloading python_dotenv-0.19.2-py2.py3-none-any.whl (17 kB)\n",
            "Installing collected packages: python-dotenv\n",
            "Successfully installed python-dotenv-0.19.2\n"
          ]
        }
      ]
    },
    {
      "cell_type": "code",
      "source": [
        "from dotenv import load_dotenv\n",
        "load_dotenv()"
      ],
      "metadata": {
        "colab": {
          "base_uri": "https://localhost:8080/"
        },
        "id": "SxKWHmtPZWtG",
        "outputId": "27778ce6-630a-40ea-fd90-d32e17c2f554"
      },
      "execution_count": null,
      "outputs": [
        {
          "output_type": "execute_result",
          "data": {
            "text/plain": [
              "True"
            ]
          },
          "metadata": {},
          "execution_count": 5
        }
      ]
    },
    {
      "cell_type": "code",
      "source": [
        "import os\n",
        "myPass = os.getenv('PASS')"
      ],
      "metadata": {
        "id": "lmJH-g9fZfwQ"
      },
      "execution_count": null,
      "outputs": []
    },
    {
      "cell_type": "code",
      "source": [
        "cd /content"
      ],
      "metadata": {
        "colab": {
          "base_uri": "https://localhost:8080/"
        },
        "id": "SU6cTZiMbBFl",
        "outputId": "49393d17-5bfb-4719-8108-b7a7cfa4d992"
      },
      "execution_count": null,
      "outputs": [
        {
          "output_type": "stream",
          "name": "stdout",
          "text": [
            "/content\n"
          ]
        }
      ]
    },
    {
      "cell_type": "code",
      "source": [
        "!unzip -P {myPass} for_Google_Colaboratory.zip"
      ],
      "metadata": {
        "colab": {
          "base_uri": "https://localhost:8080/"
        },
        "id": "9Mav93nXUBCf",
        "outputId": "564432c3-de2d-46b3-bac5-b1e8395f9465"
      },
      "execution_count": null,
      "outputs": [
        {
          "output_type": "stream",
          "name": "stdout",
          "text": [
            "Archive:  for_Google_Colaboratory.zip\n",
            "  inflating: Google ColaboratoryС╬ЙЮФ┼/MathProgramming/Appendix/Appendix.ipynb  \n",
            "  inflating: Google ColaboratoryС╬ЙЮФ┼/MathProgramming/Appendix/requirements.txt  \n",
            "  inflating: Google ColaboratoryС╬ЙЮФ┼/MathProgramming/Appendix/sample_linear.csv  \n",
            "  inflating: Google ColaboratoryС╬ЙЮФ┼/MathProgramming/Chapter1/accomodation_info.csv  \n",
            "  inflating: Google ColaboratoryС╬ЙЮФ┼/MathProgramming/Chapter1/Chapter1.ipynb  \n",
            "  inflating: Google ColaboratoryС╬ЙЮФ┼/MathProgramming/Chapter1/requirements.txt  \n",
            "  inflating: Google ColaboratoryС╬ЙЮФ┼/MathProgramming/Chapter10/Chapter10-1.ipynb  \n",
            "  inflating: Google ColaboratoryС╬ЙЮФ┼/MathProgramming/Chapter10/Chapter10-2.ipynb  \n",
            "  inflating: Google ColaboratoryС╬ЙЮФ┼/MathProgramming/Chapter10/Chapter10-3.ipynb  \n",
            "  inflating: Google ColaboratoryС╬ЙЮФ┼/MathProgramming/Chapter10/requirements1.txt  \n",
            " extracting: Google ColaboratoryС╬ЙЮФ┼/MathProgramming/Chapter10/requirements2.txt  \n",
            "  inflating: Google ColaboratoryС╬ЙЮФ┼/MathProgramming/Chapter10/requirements3.txt  \n",
            "  inflating: Google ColaboratoryС╬ЙЮФ┼/MathProgramming/Chapter10/spam.csv  \n",
            "  inflating: Google ColaboratoryС╬ЙЮФ┼/MathProgramming/Chapter2/accomodation_info.csv  \n",
            "  inflating: Google ColaboratoryС╬ЙЮФ┼/MathProgramming/Chapter2/Chapter2.ipynb  \n",
            "  inflating: Google ColaboratoryС╬ЙЮФ┼/MathProgramming/Chapter2/requirements.txt  \n",
            "  inflating: Google ColaboratoryС╬ЙЮФ┼/MathProgramming/Chapter3/accomodation_info.csv  \n",
            "  inflating: Google ColaboratoryС╬ЙЮФ┼/MathProgramming/Chapter3/amenity_price.csv  \n",
            "  inflating: Google ColaboratoryС╬ЙЮФ┼/MathProgramming/Chapter3/Chapter3.ipynb  \n",
            "  inflating: Google ColaboratoryС╬ЙЮФ┼/MathProgramming/Chapter3/requirements.txt  \n",
            "  inflating: Google ColaboratoryС╬ЙЮФ┼/MathProgramming/Chapter3/theft_list_201811.csv  \n",
            "  inflating: Google ColaboratoryС╬ЙЮФ┼/MathProgramming/Chapter3/theft_list_2y.csv  \n",
            "  inflating: Google ColaboratoryС╬ЙЮФ┼/MathProgramming/Chapter4/4_10_nodes.csv  \n",
            "  inflating: Google ColaboratoryС╬ЙЮФ┼/MathProgramming/Chapter4/4_10_routes.csv  \n",
            "  inflating: Google ColaboratoryС╬ЙЮФ┼/MathProgramming/Chapter4/4_6_nodes.csv  \n",
            "  inflating: Google ColaboratoryС╬ЙЮФ┼/MathProgramming/Chapter4/4_8_nodes.csv  \n",
            "  inflating: Google ColaboratoryС╬ЙЮФ┼/MathProgramming/Chapter4/Chapter4.ipynb  \n",
            "  inflating: Google ColaboratoryС╬ЙЮФ┼/MathProgramming/Chapter4/requirements.txt  \n",
            "  inflating: Google ColaboratoryС╬ЙЮФ┼/MathProgramming/Chapter4/vertices.csv  \n",
            "  inflating: Google ColaboratoryС╬ЙЮФ┼/MathProgramming/Chapter5/Chapter5.ipynb  \n",
            "  inflating: Google ColaboratoryС╬ЙЮФ┼/MathProgramming/Chapter5/nutrition.csv  \n",
            "  inflating: Google ColaboratoryС╬ЙЮФ┼/MathProgramming/Chapter5/price.csv  \n",
            "  inflating: Google ColaboratoryС╬ЙЮФ┼/MathProgramming/Chapter5/requirements.txt  \n",
            "  inflating: Google ColaboratoryС╬ЙЮФ┼/MathProgramming/Chapter5/schedule.csv  \n",
            "  inflating: Google ColaboratoryС╬ЙЮФ┼/MathProgramming/Chapter6/Chapter6.ipynb  \n",
            "  inflating: Google ColaboratoryС╬ЙЮФ┼/MathProgramming/Chapter6/requirements.txt  \n",
            "  inflating: Google ColaboratoryС╬ЙЮФ┼/MathProgramming/Chapter7/Chapter7.ipynb  \n",
            "  inflating: Google ColaboratoryС╬ЙЮФ┼/MathProgramming/Chapter7/links.csv  \n",
            "  inflating: Google ColaboratoryС╬ЙЮФ┼/MathProgramming/Chapter7/requirements.txt  \n",
            "  inflating: Google ColaboratoryС╬ЙЮФ┼/MathProgramming/Chapter7/route.csv  \n",
            "  inflating: Google ColaboratoryС╬ЙЮФ┼/MathProgramming/Chapter8/Chapter8-1.ipynb  \n",
            "  inflating: Google ColaboratoryС╬ЙЮФ┼/MathProgramming/Chapter8/Chapter8-2.ipynb  \n",
            "  inflating: Google ColaboratoryС╬ЙЮФ┼/MathProgramming/Chapter8/requirements.txt  \n",
            "  inflating: Google ColaboratoryС╬ЙЮФ┼/MathProgramming/Chapter8/sample_2d.csv  \n",
            "  inflating: Google ColaboratoryС╬ЙЮФ┼/MathProgramming/Chapter8/sample_linear.csv  \n",
            "  inflating: Google ColaboratoryС╬ЙЮФ┼/MathProgramming/Chapter8/sample_sin.csv  \n",
            "  inflating: Google ColaboratoryС╬ЙЮФ┼/MathProgramming/Chapter8/vegi.png  \n",
            " extracting: Google ColaboratoryС╬ЙЮФ┼/MathProgramming/Chapter9/audio_dataset_3class.zip  \n",
            "  inflating: Google ColaboratoryС╬ЙЮФ┼/MathProgramming/Chapter9/Chapter9-1.ipynb  \n",
            "  inflating: Google ColaboratoryС╬ЙЮФ┼/MathProgramming/Chapter9/Chapter9-2.ipynb  \n",
            " extracting: Google ColaboratoryС╬ЙЮФ┼/MathProgramming/Chapter9/requirements.txt  \n",
            "  inflating: Google ColaboratoryС╬ЙЮФ┼/MathProgramming/Chapter9/requirements2.txt  \n",
            "  inflating: Google ColaboratoryС╬ЙЮФ┼/MathProgramming/Chapter9/rnn_sin_40_80.csv  \n"
          ]
        }
      ]
    },
    {
      "cell_type": "markdown",
      "source": [
        "# 第一部 確率統計・機会学習 編"
      ],
      "metadata": {
        "id": "ZUdLaHtwXgBq"
      }
    },
    {
      "cell_type": "markdown",
      "source": [
        "## 第1章 データを手にしてまず行うべきこと"
      ],
      "metadata": {
        "id": "wU3IOL09XoBc"
      }
    },
    {
      "cell_type": "markdown",
      "source": [
        "### 1-1 データを読み込んでみよう"
      ],
      "metadata": {
        "id": "yBoWtf2hX04N"
      }
    },
    {
      "cell_type": "code",
      "source": [
        "cd /content/Google ColaboratoryС╬ЙЮФ┼/MathProgramming/Chapter1"
      ],
      "metadata": {
        "colab": {
          "base_uri": "https://localhost:8080/"
        },
        "id": "3wa-Dm7LUJnG",
        "outputId": "f7b407c0-3e4b-4b46-ccfc-07212e250c13"
      },
      "execution_count": null,
      "outputs": [
        {
          "output_type": "stream",
          "name": "stdout",
          "text": [
            "/content/Google ColaboratoryС╬ЙЮФ┼/MathProgramming/Chapter1\n"
          ]
        }
      ]
    },
    {
      "cell_type": "code",
      "source": [
        "import pandas as pd\n",
        "df_info = pd.read_csv(\"accomodation_info.csv\", index_col=0, parse_dates=[0])\n",
        "df_info"
      ],
      "metadata": {
        "colab": {
          "base_uri": "https://localhost:8080/",
          "height": 455
        },
        "id": "rEMg3YB7XRQs",
        "outputId": "be5b702b-e14c-4902-a789-ef4a047c8fd3"
      },
      "execution_count": null,
      "outputs": [
        {
          "output_type": "execute_result",
          "data": {
            "text/plain": [
              "                       顧客ID    宿泊者名 プラン     金額\n",
              "日時                                            \n",
              "2018-11-01 00:02:21  110034   若松 花子   B  19000\n",
              "2018-11-01 00:03:10  112804  津田 美加子   D  20000\n",
              "2018-11-01 00:06:19  110275  吉本 美加子   D  20000\n",
              "2018-11-01 00:08:41  110169   坂本 直人   B  19000\n",
              "2018-11-01 00:12:22  111504    青山 零   A  15000\n",
              "...                     ...     ...  ..    ...\n",
              "2020-10-31 23:38:51  110049   吉本 篤司   A   3000\n",
              "2020-10-31 23:42:12  110127    喜嶋 浩   A   3000\n",
              "2020-10-31 23:47:24  115464   藤本 明美   D   8000\n",
              "2020-10-31 23:53:22  114657   鈴木 七夏   A   3000\n",
              "2020-10-31 23:57:21  111407    鈴木 治   A   3000\n",
              "\n",
              "[71722 rows x 4 columns]"
            ],
            "text/html": [
              "\n",
              "  <div id=\"df-d238f346-fe1b-4c3d-adff-6aef0c235873\">\n",
              "    <div class=\"colab-df-container\">\n",
              "      <div>\n",
              "<style scoped>\n",
              "    .dataframe tbody tr th:only-of-type {\n",
              "        vertical-align: middle;\n",
              "    }\n",
              "\n",
              "    .dataframe tbody tr th {\n",
              "        vertical-align: top;\n",
              "    }\n",
              "\n",
              "    .dataframe thead th {\n",
              "        text-align: right;\n",
              "    }\n",
              "</style>\n",
              "<table border=\"1\" class=\"dataframe\">\n",
              "  <thead>\n",
              "    <tr style=\"text-align: right;\">\n",
              "      <th></th>\n",
              "      <th>顧客ID</th>\n",
              "      <th>宿泊者名</th>\n",
              "      <th>プラン</th>\n",
              "      <th>金額</th>\n",
              "    </tr>\n",
              "    <tr>\n",
              "      <th>日時</th>\n",
              "      <th></th>\n",
              "      <th></th>\n",
              "      <th></th>\n",
              "      <th></th>\n",
              "    </tr>\n",
              "  </thead>\n",
              "  <tbody>\n",
              "    <tr>\n",
              "      <th>2018-11-01 00:02:21</th>\n",
              "      <td>110034</td>\n",
              "      <td>若松 花子</td>\n",
              "      <td>B</td>\n",
              "      <td>19000</td>\n",
              "    </tr>\n",
              "    <tr>\n",
              "      <th>2018-11-01 00:03:10</th>\n",
              "      <td>112804</td>\n",
              "      <td>津田 美加子</td>\n",
              "      <td>D</td>\n",
              "      <td>20000</td>\n",
              "    </tr>\n",
              "    <tr>\n",
              "      <th>2018-11-01 00:06:19</th>\n",
              "      <td>110275</td>\n",
              "      <td>吉本 美加子</td>\n",
              "      <td>D</td>\n",
              "      <td>20000</td>\n",
              "    </tr>\n",
              "    <tr>\n",
              "      <th>2018-11-01 00:08:41</th>\n",
              "      <td>110169</td>\n",
              "      <td>坂本 直人</td>\n",
              "      <td>B</td>\n",
              "      <td>19000</td>\n",
              "    </tr>\n",
              "    <tr>\n",
              "      <th>2018-11-01 00:12:22</th>\n",
              "      <td>111504</td>\n",
              "      <td>青山 零</td>\n",
              "      <td>A</td>\n",
              "      <td>15000</td>\n",
              "    </tr>\n",
              "    <tr>\n",
              "      <th>...</th>\n",
              "      <td>...</td>\n",
              "      <td>...</td>\n",
              "      <td>...</td>\n",
              "      <td>...</td>\n",
              "    </tr>\n",
              "    <tr>\n",
              "      <th>2020-10-31 23:38:51</th>\n",
              "      <td>110049</td>\n",
              "      <td>吉本 篤司</td>\n",
              "      <td>A</td>\n",
              "      <td>3000</td>\n",
              "    </tr>\n",
              "    <tr>\n",
              "      <th>2020-10-31 23:42:12</th>\n",
              "      <td>110127</td>\n",
              "      <td>喜嶋 浩</td>\n",
              "      <td>A</td>\n",
              "      <td>3000</td>\n",
              "    </tr>\n",
              "    <tr>\n",
              "      <th>2020-10-31 23:47:24</th>\n",
              "      <td>115464</td>\n",
              "      <td>藤本 明美</td>\n",
              "      <td>D</td>\n",
              "      <td>8000</td>\n",
              "    </tr>\n",
              "    <tr>\n",
              "      <th>2020-10-31 23:53:22</th>\n",
              "      <td>114657</td>\n",
              "      <td>鈴木 七夏</td>\n",
              "      <td>A</td>\n",
              "      <td>3000</td>\n",
              "    </tr>\n",
              "    <tr>\n",
              "      <th>2020-10-31 23:57:21</th>\n",
              "      <td>111407</td>\n",
              "      <td>鈴木 治</td>\n",
              "      <td>A</td>\n",
              "      <td>3000</td>\n",
              "    </tr>\n",
              "  </tbody>\n",
              "</table>\n",
              "<p>71722 rows × 4 columns</p>\n",
              "</div>\n",
              "      <button class=\"colab-df-convert\" onclick=\"convertToInteractive('df-d238f346-fe1b-4c3d-adff-6aef0c235873')\"\n",
              "              title=\"Convert this dataframe to an interactive table.\"\n",
              "              style=\"display:none;\">\n",
              "        \n",
              "  <svg xmlns=\"http://www.w3.org/2000/svg\" height=\"24px\"viewBox=\"0 0 24 24\"\n",
              "       width=\"24px\">\n",
              "    <path d=\"M0 0h24v24H0V0z\" fill=\"none\"/>\n",
              "    <path d=\"M18.56 5.44l.94 2.06.94-2.06 2.06-.94-2.06-.94-.94-2.06-.94 2.06-2.06.94zm-11 1L8.5 8.5l.94-2.06 2.06-.94-2.06-.94L8.5 2.5l-.94 2.06-2.06.94zm10 10l.94 2.06.94-2.06 2.06-.94-2.06-.94-.94-2.06-.94 2.06-2.06.94z\"/><path d=\"M17.41 7.96l-1.37-1.37c-.4-.4-.92-.59-1.43-.59-.52 0-1.04.2-1.43.59L10.3 9.45l-7.72 7.72c-.78.78-.78 2.05 0 2.83L4 21.41c.39.39.9.59 1.41.59.51 0 1.02-.2 1.41-.59l7.78-7.78 2.81-2.81c.8-.78.8-2.07 0-2.86zM5.41 20L4 18.59l7.72-7.72 1.47 1.35L5.41 20z\"/>\n",
              "  </svg>\n",
              "      </button>\n",
              "      \n",
              "  <style>\n",
              "    .colab-df-container {\n",
              "      display:flex;\n",
              "      flex-wrap:wrap;\n",
              "      gap: 12px;\n",
              "    }\n",
              "\n",
              "    .colab-df-convert {\n",
              "      background-color: #E8F0FE;\n",
              "      border: none;\n",
              "      border-radius: 50%;\n",
              "      cursor: pointer;\n",
              "      display: none;\n",
              "      fill: #1967D2;\n",
              "      height: 32px;\n",
              "      padding: 0 0 0 0;\n",
              "      width: 32px;\n",
              "    }\n",
              "\n",
              "    .colab-df-convert:hover {\n",
              "      background-color: #E2EBFA;\n",
              "      box-shadow: 0px 1px 2px rgba(60, 64, 67, 0.3), 0px 1px 3px 1px rgba(60, 64, 67, 0.15);\n",
              "      fill: #174EA6;\n",
              "    }\n",
              "\n",
              "    [theme=dark] .colab-df-convert {\n",
              "      background-color: #3B4455;\n",
              "      fill: #D2E3FC;\n",
              "    }\n",
              "\n",
              "    [theme=dark] .colab-df-convert:hover {\n",
              "      background-color: #434B5C;\n",
              "      box-shadow: 0px 1px 3px 1px rgba(0, 0, 0, 0.15);\n",
              "      filter: drop-shadow(0px 1px 2px rgba(0, 0, 0, 0.3));\n",
              "      fill: #FFFFFF;\n",
              "    }\n",
              "  </style>\n",
              "\n",
              "      <script>\n",
              "        const buttonEl =\n",
              "          document.querySelector('#df-d238f346-fe1b-4c3d-adff-6aef0c235873 button.colab-df-convert');\n",
              "        buttonEl.style.display =\n",
              "          google.colab.kernel.accessAllowed ? 'block' : 'none';\n",
              "\n",
              "        async function convertToInteractive(key) {\n",
              "          const element = document.querySelector('#df-d238f346-fe1b-4c3d-adff-6aef0c235873');\n",
              "          const dataTable =\n",
              "            await google.colab.kernel.invokeFunction('convertToInteractive',\n",
              "                                                     [key], {});\n",
              "          if (!dataTable) return;\n",
              "\n",
              "          const docLinkHtml = 'Like what you see? Visit the ' +\n",
              "            '<a target=\"_blank\" href=https://colab.research.google.com/notebooks/data_table.ipynb>data table notebook</a>'\n",
              "            + ' to learn more about interactive tables.';\n",
              "          element.innerHTML = '';\n",
              "          dataTable['output_type'] = 'display_data';\n",
              "          await google.colab.output.renderOutput(dataTable, element);\n",
              "          const docLink = document.createElement('div');\n",
              "          docLink.innerHTML = docLinkHtml;\n",
              "          element.appendChild(docLink);\n",
              "        }\n",
              "      </script>\n",
              "    </div>\n",
              "  </div>\n",
              "  "
            ]
          },
          "metadata": {},
          "execution_count": 13
        }
      ]
    },
    {
      "cell_type": "code",
      "source": [
        ""
      ],
      "metadata": {
        "id": "u1OEfZxoYKXL"
      },
      "execution_count": null,
      "outputs": []
    }
  ]
}